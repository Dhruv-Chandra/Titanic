{
 "cells": [
  {
   "cell_type": "markdown",
   "metadata": {},
   "source": [
    "When data is normal we use - Parametric Test which is done on mean as it is the central point.\n",
    "\n",
    "When data is not normal (skewed) we use - Non-Parametric Test which is done on Median as it is the central point"
   ]
  },
  {
   "cell_type": "markdown",
   "metadata": {},
   "source": [
    "# Problem Statement\n",
    "\n",
    "In this challenge, we ask you to build a predictive model that answers the question: “what sorts of people were more likely to survive?” using passenger data (ie name, age, gender, socio-economic class, etc)."
   ]
  },
  {
   "cell_type": "code",
   "execution_count": 199,
   "metadata": {},
   "outputs": [],
   "source": [
    "import pandas as pd\n",
    "import math\n",
    "import numpy as np\n",
    "import statsmodels.api as sm\n",
    "from statsmodels.tools import add_constant as ac\n",
    "import scipy.stats as st\n",
    "import matplotlib.pyplot as plt\n",
    "from sklearn.metrics import confusion_matrix, precision_score, recall_score, f1_score, roc_auc_score, accuracy_score, classification_report,  mean_squared_error, ConfusionMatrixDisplay\n",
    "import seaborn as sns\n",
    "from sklearn.preprocessing import StandardScaler, LabelEncoder, Binarizer\n",
    "sc = StandardScaler()\n",
    "le = LabelEncoder()\n",
    "\n",
    "from sklearn.model_selection import train_test_split, KFold, StratifiedKFold, GridSearchCV, cross_val_score\n",
    "from sklearn.linear_model import LogisticRegression\n",
    "from sklearn.pipeline import make_pipeline\n",
    "from imblearn.pipeline import make_pipeline as imbalanced_make_pipeline\n",
    "from imblearn.pipeline import Pipeline as imbpipeline\n",
    "from imblearn.over_sampling import SMOTE\n",
    "from imblearn.under_sampling import NearMiss\n",
    "from collections import Counter\n",
    "from sklearn.ensemble import RandomForestRegressor, RandomForestClassifier\n",
    "from sklearn.tree import DecisionTreeClassifier\n",
    "from sklearn.neighbors import KNeighborsClassifier\n",
    "rfr = RandomForestRegressor()\n",
    "rfc = RandomForestClassifier()\n",
    "import warnings\n",
    "warnings.filterwarnings('ignore')\n",
    "global str"
   ]
  },
  {
   "cell_type": "code",
   "execution_count": 80,
   "metadata": {},
   "outputs": [
    {
     "data": {
      "text/html": [
       "<div>\n",
       "<style scoped>\n",
       "    .dataframe tbody tr th:only-of-type {\n",
       "        vertical-align: middle;\n",
       "    }\n",
       "\n",
       "    .dataframe tbody tr th {\n",
       "        vertical-align: top;\n",
       "    }\n",
       "\n",
       "    .dataframe thead th {\n",
       "        text-align: right;\n",
       "    }\n",
       "</style>\n",
       "<table border=\"1\" class=\"dataframe\">\n",
       "  <thead>\n",
       "    <tr style=\"text-align: right;\">\n",
       "      <th></th>\n",
       "      <th>PassengerId</th>\n",
       "      <th>Pclass</th>\n",
       "      <th>Name</th>\n",
       "      <th>Sex</th>\n",
       "      <th>Age</th>\n",
       "      <th>SibSp</th>\n",
       "      <th>Parch</th>\n",
       "      <th>Ticket</th>\n",
       "      <th>Fare</th>\n",
       "      <th>Cabin</th>\n",
       "      <th>Embarked</th>\n",
       "    </tr>\n",
       "  </thead>\n",
       "  <tbody>\n",
       "    <tr>\n",
       "      <th>0</th>\n",
       "      <td>892</td>\n",
       "      <td>3</td>\n",
       "      <td>Kelly, Mr. James</td>\n",
       "      <td>male</td>\n",
       "      <td>34.5</td>\n",
       "      <td>0</td>\n",
       "      <td>0</td>\n",
       "      <td>330911</td>\n",
       "      <td>7.8292</td>\n",
       "      <td>NaN</td>\n",
       "      <td>Q</td>\n",
       "    </tr>\n",
       "    <tr>\n",
       "      <th>1</th>\n",
       "      <td>893</td>\n",
       "      <td>3</td>\n",
       "      <td>Wilkes, Mrs. James (Ellen Needs)</td>\n",
       "      <td>female</td>\n",
       "      <td>47.0</td>\n",
       "      <td>1</td>\n",
       "      <td>0</td>\n",
       "      <td>363272</td>\n",
       "      <td>7.0000</td>\n",
       "      <td>NaN</td>\n",
       "      <td>S</td>\n",
       "    </tr>\n",
       "    <tr>\n",
       "      <th>2</th>\n",
       "      <td>894</td>\n",
       "      <td>2</td>\n",
       "      <td>Myles, Mr. Thomas Francis</td>\n",
       "      <td>male</td>\n",
       "      <td>62.0</td>\n",
       "      <td>0</td>\n",
       "      <td>0</td>\n",
       "      <td>240276</td>\n",
       "      <td>9.6875</td>\n",
       "      <td>NaN</td>\n",
       "      <td>Q</td>\n",
       "    </tr>\n",
       "    <tr>\n",
       "      <th>3</th>\n",
       "      <td>895</td>\n",
       "      <td>3</td>\n",
       "      <td>Wirz, Mr. Albert</td>\n",
       "      <td>male</td>\n",
       "      <td>27.0</td>\n",
       "      <td>0</td>\n",
       "      <td>0</td>\n",
       "      <td>315154</td>\n",
       "      <td>8.6625</td>\n",
       "      <td>NaN</td>\n",
       "      <td>S</td>\n",
       "    </tr>\n",
       "    <tr>\n",
       "      <th>4</th>\n",
       "      <td>896</td>\n",
       "      <td>3</td>\n",
       "      <td>Hirvonen, Mrs. Alexander (Helga E Lindqvist)</td>\n",
       "      <td>female</td>\n",
       "      <td>22.0</td>\n",
       "      <td>1</td>\n",
       "      <td>1</td>\n",
       "      <td>3101298</td>\n",
       "      <td>12.2875</td>\n",
       "      <td>NaN</td>\n",
       "      <td>S</td>\n",
       "    </tr>\n",
       "  </tbody>\n",
       "</table>\n",
       "</div>"
      ],
      "text/plain": [
       "   PassengerId  Pclass                                          Name     Sex  \\\n",
       "0          892       3                              Kelly, Mr. James    male   \n",
       "1          893       3              Wilkes, Mrs. James (Ellen Needs)  female   \n",
       "2          894       2                     Myles, Mr. Thomas Francis    male   \n",
       "3          895       3                              Wirz, Mr. Albert    male   \n",
       "4          896       3  Hirvonen, Mrs. Alexander (Helga E Lindqvist)  female   \n",
       "\n",
       "    Age  SibSp  Parch   Ticket     Fare Cabin Embarked  \n",
       "0  34.5      0      0   330911   7.8292   NaN        Q  \n",
       "1  47.0      1      0   363272   7.0000   NaN        S  \n",
       "2  62.0      0      0   240276   9.6875   NaN        Q  \n",
       "3  27.0      0      0   315154   8.6625   NaN        S  \n",
       "4  22.0      1      1  3101298  12.2875   NaN        S  "
      ]
     },
     "execution_count": 80,
     "metadata": {},
     "output_type": "execute_result"
    }
   ],
   "source": [
    "train = pd.read_csv('train.csv')\n",
    "test = pd.read_csv('test.csv')\n",
    "test.head()"
   ]
  },
  {
   "cell_type": "code",
   "execution_count": 81,
   "metadata": {},
   "outputs": [],
   "source": [
    "for i in train.columns:\n",
    "    if i not in test.columns:\n",
    "        target_var = i "
   ]
  },
  {
   "cell_type": "code",
   "execution_count": 82,
   "metadata": {},
   "outputs": [
    {
     "data": {
      "text/plain": [
       "'Survived'"
      ]
     },
     "execution_count": 82,
     "metadata": {},
     "output_type": "execute_result"
    }
   ],
   "source": [
    "target_var"
   ]
  },
  {
   "cell_type": "code",
   "execution_count": 213,
   "metadata": {},
   "outputs": [],
   "source": [
    "# General Grid Search Model that could be used by all Classification Models. \n",
    "\n",
    "def grid_search(model, params, df, encod = 'label', subm = 'no'):\n",
    "    x_train, x_test, y_train, y_test = split_data(df)\n",
    "    if encod == 'label':\n",
    "        x_train = x_train.apply(LabelEncoder().fit_transform)\n",
    "        x_test = x_test.apply(LabelEncoder().transform)\n",
    "    else:\n",
    "        x_train = pd.get_dummies(x_train)\n",
    "        x_test = pd.get_dummies(x_test)\n",
    "    x_train = sc.fit_transform(x_train)\n",
    "    x_test = sc.transform(x_test)\n",
    "    grid_mod = GridSearchCV(model, param_grid=params, cv = 10, n_jobs=-1, refit=True)\n",
    "    grid_mod.fit(x_train, y_train)\n",
    "\n",
    "    best_estimator = grid_mod.best_estimator_\n",
    "\n",
    "    y_pred = grid_mod.predict(x_test)\n",
    "\n",
    "    if subm == 'yes':\n",
    "        sub(str(model)[:4], y_pred)"
   ]
  },
  {
   "cell_type": "code",
   "execution_count": 86,
   "metadata": {},
   "outputs": [],
   "source": [
    "# Splitting combined into x_train, x_test, y_train, y_test\n",
    "\n",
    "def split_data(df, y = target_var):\n",
    "\n",
    "    x_train = df[df[y].notnull()]\n",
    "    x_train.drop(y, inplace=True, axis=1)\n",
    "    # x_train.head()\n",
    "\n",
    "    x_test = df[df[y].isnull()]\n",
    "    x_test.drop('Survived', inplace=True, axis=1)\n",
    "    # x_test.head()\n",
    "\n",
    "    y_train = df[df[y].notnull()]['Survived']\n",
    "    # y_train.notnull().sum()\n",
    "    # y_train = y_train.astype('int')\n",
    "\n",
    "    y_test = df[df[y].isna()]['Survived']\n",
    "    # y_test.isnull().sum()\n",
    "\n",
    "    return x_train, x_test, y_train, y_test"
   ]
  },
  {
   "cell_type": "code",
   "execution_count": 87,
   "metadata": {},
   "outputs": [],
   "source": [
    "def ret_latest_file(x):\n",
    "    ans = os.listdir()\n",
    "    finlist = []\n",
    "    re_pat = re.compile(\"([a-zA-Z]+)([0-9]+)\")\n",
    "    for i in ans:\n",
    "        try:            \n",
    "            if i[-3:] == 'csv':\n",
    "                res = re_pat.match(i).groups()                \n",
    "                if res[0] == x:\n",
    "                    finlist.append(int(res[1]) + 1)            \n",
    "        except:\n",
    "            pass\n",
    "    if len(finlist) > 0:\n",
    "        return res[0], max(finlist)\n",
    "        # print(res[0], max(finlist))\n",
    "    else:\n",
    "        return x, 1\n",
    "        # print(x, 1)"
   ]
  },
  {
   "cell_type": "code",
   "execution_count": 88,
   "metadata": {},
   "outputs": [],
   "source": [
    "train[target_var] = train[target_var].astype('category')\n",
    "\n",
    "# Converting target into Categorical"
   ]
  },
  {
   "cell_type": "code",
   "execution_count": 89,
   "metadata": {},
   "outputs": [
    {
     "name": "stdout",
     "output_type": "stream",
     "text": [
      "<class 'pandas.core.frame.DataFrame'>\n",
      "RangeIndex: 891 entries, 0 to 890\n",
      "Data columns (total 12 columns):\n",
      " #   Column       Non-Null Count  Dtype  \n",
      "---  ------       --------------  -----  \n",
      " 0   PassengerId  891 non-null    int64  \n",
      " 1   Survived     891 non-null    object \n",
      " 2   Pclass       891 non-null    int64  \n",
      " 3   Name         891 non-null    object \n",
      " 4   Sex          891 non-null    object \n",
      " 5   Age          714 non-null    float64\n",
      " 6   SibSp        891 non-null    int64  \n",
      " 7   Parch        891 non-null    int64  \n",
      " 8   Ticket       891 non-null    object \n",
      " 9   Fare         891 non-null    float64\n",
      " 10  Cabin        204 non-null    object \n",
      " 11  Embarked     889 non-null    object \n",
      "dtypes: float64(2), int64(4), object(6)\n",
      "memory usage: 83.7+ KB\n"
     ]
    }
   ],
   "source": [
    "train.info()"
   ]
  },
  {
   "cell_type": "code",
   "execution_count": 90,
   "metadata": {},
   "outputs": [],
   "source": [
    "combined = pd.concat([train, test], sort = False, ignore_index=True)"
   ]
  },
  {
   "cell_type": "code",
   "execution_count": 91,
   "metadata": {},
   "outputs": [
    {
     "data": {
      "text/html": [
       "<div>\n",
       "<style scoped>\n",
       "    .dataframe tbody tr th:only-of-type {\n",
       "        vertical-align: middle;\n",
       "    }\n",
       "\n",
       "    .dataframe tbody tr th {\n",
       "        vertical-align: top;\n",
       "    }\n",
       "\n",
       "    .dataframe thead th {\n",
       "        text-align: right;\n",
       "    }\n",
       "</style>\n",
       "<table border=\"1\" class=\"dataframe\">\n",
       "  <thead>\n",
       "    <tr style=\"text-align: right;\">\n",
       "      <th></th>\n",
       "      <th>PassengerId</th>\n",
       "      <th>Survived</th>\n",
       "      <th>Pclass</th>\n",
       "      <th>Name</th>\n",
       "      <th>Sex</th>\n",
       "      <th>Age</th>\n",
       "      <th>SibSp</th>\n",
       "      <th>Parch</th>\n",
       "      <th>Ticket</th>\n",
       "      <th>Fare</th>\n",
       "      <th>Cabin</th>\n",
       "      <th>Embarked</th>\n",
       "    </tr>\n",
       "  </thead>\n",
       "  <tbody>\n",
       "    <tr>\n",
       "      <th>0</th>\n",
       "      <td>1</td>\n",
       "      <td>0</td>\n",
       "      <td>3</td>\n",
       "      <td>Braund, Mr. Owen Harris</td>\n",
       "      <td>male</td>\n",
       "      <td>22.0</td>\n",
       "      <td>1</td>\n",
       "      <td>0</td>\n",
       "      <td>A/5 21171</td>\n",
       "      <td>7.2500</td>\n",
       "      <td>NaN</td>\n",
       "      <td>S</td>\n",
       "    </tr>\n",
       "    <tr>\n",
       "      <th>1</th>\n",
       "      <td>2</td>\n",
       "      <td>1</td>\n",
       "      <td>1</td>\n",
       "      <td>Cumings, Mrs. John Bradley (Florence Briggs Th...</td>\n",
       "      <td>female</td>\n",
       "      <td>38.0</td>\n",
       "      <td>1</td>\n",
       "      <td>0</td>\n",
       "      <td>PC 17599</td>\n",
       "      <td>71.2833</td>\n",
       "      <td>C85</td>\n",
       "      <td>C</td>\n",
       "    </tr>\n",
       "    <tr>\n",
       "      <th>2</th>\n",
       "      <td>3</td>\n",
       "      <td>1</td>\n",
       "      <td>3</td>\n",
       "      <td>Heikkinen, Miss. Laina</td>\n",
       "      <td>female</td>\n",
       "      <td>26.0</td>\n",
       "      <td>0</td>\n",
       "      <td>0</td>\n",
       "      <td>STON/O2. 3101282</td>\n",
       "      <td>7.9250</td>\n",
       "      <td>NaN</td>\n",
       "      <td>S</td>\n",
       "    </tr>\n",
       "    <tr>\n",
       "      <th>3</th>\n",
       "      <td>4</td>\n",
       "      <td>1</td>\n",
       "      <td>1</td>\n",
       "      <td>Futrelle, Mrs. Jacques Heath (Lily May Peel)</td>\n",
       "      <td>female</td>\n",
       "      <td>35.0</td>\n",
       "      <td>1</td>\n",
       "      <td>0</td>\n",
       "      <td>113803</td>\n",
       "      <td>53.1000</td>\n",
       "      <td>C123</td>\n",
       "      <td>S</td>\n",
       "    </tr>\n",
       "    <tr>\n",
       "      <th>4</th>\n",
       "      <td>5</td>\n",
       "      <td>0</td>\n",
       "      <td>3</td>\n",
       "      <td>Allen, Mr. William Henry</td>\n",
       "      <td>male</td>\n",
       "      <td>35.0</td>\n",
       "      <td>0</td>\n",
       "      <td>0</td>\n",
       "      <td>373450</td>\n",
       "      <td>8.0500</td>\n",
       "      <td>NaN</td>\n",
       "      <td>S</td>\n",
       "    </tr>\n",
       "  </tbody>\n",
       "</table>\n",
       "</div>"
      ],
      "text/plain": [
       "   PassengerId Survived  Pclass  \\\n",
       "0            1        0       3   \n",
       "1            2        1       1   \n",
       "2            3        1       3   \n",
       "3            4        1       1   \n",
       "4            5        0       3   \n",
       "\n",
       "                                                Name     Sex   Age  SibSp  \\\n",
       "0                            Braund, Mr. Owen Harris    male  22.0      1   \n",
       "1  Cumings, Mrs. John Bradley (Florence Briggs Th...  female  38.0      1   \n",
       "2                             Heikkinen, Miss. Laina  female  26.0      0   \n",
       "3       Futrelle, Mrs. Jacques Heath (Lily May Peel)  female  35.0      1   \n",
       "4                           Allen, Mr. William Henry    male  35.0      0   \n",
       "\n",
       "   Parch            Ticket     Fare Cabin Embarked  \n",
       "0      0         A/5 21171   7.2500   NaN        S  \n",
       "1      0          PC 17599  71.2833   C85        C  \n",
       "2      0  STON/O2. 3101282   7.9250   NaN        S  \n",
       "3      0            113803  53.1000  C123        S  \n",
       "4      0            373450   8.0500   NaN        S  "
      ]
     },
     "execution_count": 91,
     "metadata": {},
     "output_type": "execute_result"
    }
   ],
   "source": [
    "combined.head()"
   ]
  },
  {
   "cell_type": "code",
   "execution_count": 206,
   "metadata": {},
   "outputs": [],
   "source": [
    "# Preparing Data for submission\n",
    "\n",
    "def sub(n, pred):\n",
    "    name, num = ret_latest_file(n)\n",
    "    sol = pd.read_csv('gender_submission.csv')\n",
    "    # sol = pd.DataFrame({\"PassengerId\": test.PassengerId, \"Survived\": pred})\n",
    "    sol.loc[:, target_var] = pred\n",
    "    sol.to_csv(name + '{}.csv'.format(num), index=False)\n"
   ]
  },
  {
   "cell_type": "code",
   "execution_count": 94,
   "metadata": {},
   "outputs": [],
   "source": [
    "# Base Submission\n",
    "\n",
    "# sub('base', 0)"
   ]
  },
  {
   "cell_type": "code",
   "execution_count": 96,
   "metadata": {},
   "outputs": [],
   "source": [
    "to_be_obj = ['Pclass', 'SibSp', 'Parch']\n",
    "combined[to_be_obj] = combined[to_be_obj].astype(str)"
   ]
  },
  {
   "cell_type": "code",
   "execution_count": 97,
   "metadata": {},
   "outputs": [
    {
     "data": {
      "text/plain": [
       "<AxesSubplot:>"
      ]
     },
     "execution_count": 97,
     "metadata": {},
     "output_type": "execute_result"
    },
    {
     "data": {
      "image/png": "[encoded data removed]",
      "text/plain": [
       "<Figure size 432x288 with 1 Axes>"
      ]
     },
     "metadata": {
      "needs_background": "light"
     },
     "output_type": "display_data"
    }
   ],
   "source": [
    "combined.Survived.value_counts().plot(kind = 'bar')\n",
    "\n",
    "# There is a little imbalance in the data.\n",
    "# We could try SMOTE (OverSampling) or Near Miss (UnderSampling) at a later stage."
   ]
  },
  {
   "cell_type": "code",
   "execution_count": 98,
   "metadata": {},
   "outputs": [],
   "source": [
    "for i in combined.select_dtypes('object'):\n",
    "    combined[i] = combined[i].astype('category')"
   ]
  },
  {
   "cell_type": "code",
   "execution_count": 99,
   "metadata": {},
   "outputs": [
    {
     "name": "stdout",
     "output_type": "stream",
     "text": [
      "<class 'pandas.core.frame.DataFrame'>\n",
      "RangeIndex: 1309 entries, 0 to 1308\n",
      "Data columns (total 12 columns):\n",
      " #   Column       Non-Null Count  Dtype   \n",
      "---  ------       --------------  -----   \n",
      " 0   PassengerId  1309 non-null   int64   \n",
      " 1   Survived     891 non-null    category\n",
      " 2   Pclass       1309 non-null   category\n",
      " 3   Name         1309 non-null   category\n",
      " 4   Sex          1309 non-null   category\n",
      " 5   Age          1046 non-null   float64 \n",
      " 6   SibSp        1309 non-null   category\n",
      " 7   Parch        1309 non-null   category\n",
      " 8   Ticket       1309 non-null   category\n",
      " 9   Fare         1308 non-null   float64 \n",
      " 10  Cabin        295 non-null    category\n",
      " 11  Embarked     1307 non-null   category\n",
      "dtypes: category(9), float64(2), int64(1)\n",
      "memory usage: 134.9 KB\n"
     ]
    }
   ],
   "source": [
    "combined.info()"
   ]
  },
  {
   "cell_type": "code",
   "execution_count": 100,
   "metadata": {},
   "outputs": [
    {
     "data": {
      "text/plain": [
       "Index(['PassengerId', 'Survived', 'Pclass', 'Name', 'Sex', 'Age', 'SibSp',\n",
       "       'Parch', 'Ticket', 'Fare', 'Cabin', 'Embarked'],\n",
       "      dtype='object')"
      ]
     },
     "execution_count": 100,
     "metadata": {},
     "output_type": "execute_result"
    }
   ],
   "source": [
    "combined.columns"
   ]
  },
  {
   "cell_type": "markdown",
   "metadata": {},
   "source": [
    "### EDA: Univariate Analysis"
   ]
  },
  {
   "cell_type": "code",
   "execution_count": 101,
   "metadata": {},
   "outputs": [],
   "source": [
    "not_plot = ['PassengerId', 'Name', 'Ticket', 'Cabin']\n",
    "color = ['red','blue','green']"
   ]
  },
  {
   "cell_type": "code",
   "execution_count": 102,
   "metadata": {},
   "outputs": [],
   "source": [
    "def univariate(df = combined, rows = 3, cols = 4):\n",
    "    fig=plt.figure(figsize=(20,20))\n",
    "    for j, i in enumerate(df.columns):\n",
    "        if i not in not_plot:\n",
    "            ax=fig.add_subplot(rows,cols,j+1)\n",
    "            if i in df.select_dtypes(['category', 'object']):\n",
    "                sns.countplot(x= i, data = df, ax=ax)\n",
    "            if i in df.select_dtypes(['int', 'float64']):\n",
    "                sns.distplot(x = df[i], ax=ax, color=np.random.choice(color))\n",
    "                ax.set(xlabel=i)\n",
    "    fig.tight_layout() \n",
    "    plt.show()"
   ]
  },
  {
   "cell_type": "code",
   "execution_count": 103,
   "metadata": {},
   "outputs": [
    {
     "data": {
      "image/png": "[encoded data removed]",
      "text/plain": [
       "<Figure size 1440x1440 with 8 Axes>"
      ]
     },
     "metadata": {
      "needs_background": "light"
     },
     "output_type": "display_data"
    }
   ],
   "source": [
    "univariate(combined)"
   ]
  },
  {
   "cell_type": "markdown",
   "metadata": {},
   "source": [
    "### EDA: Bivariate Analysis"
   ]
  },
  {
   "cell_type": "code",
   "execution_count": 224,
   "metadata": {},
   "outputs": [],
   "source": [
    "def bivariate(df = combined, y = target_var, cols = 4, rows = 4):\n",
    "    temp = not_plot[:]\n",
    "    temp.append(y)\n",
    "    fig=plt.figure(figsize=(25,20))\n",
    "\n",
    "    for j, i in enumerate(df.columns):\n",
    "        if i not in not_plot:\n",
    "            if df[y].dtype == 'float':\n",
    "                if i in df.select_dtypes(['category', 'object']):\n",
    "                    if (i not in temp): \n",
    "                        ax=fig.add_subplot(rows,cols,j+1)\n",
    "                        sns.boxplot(x = i, y = y, data = df)\n",
    "\n",
    "                if i in df.select_dtypes(['float', 'int']):                \n",
    "                    if (i not in temp):      \n",
    "                        ax=fig.add_subplot(rows,cols,j+1)       \n",
    "                        sns.scatterplot(x = y, y = i, data = df)                  \n",
    "                \n",
    "            elif df[y].dtype == 'category':\n",
    "                if i in df.select_dtypes(['category', 'object']):\n",
    "                    if (i not in temp):\n",
    "                        ax=fig.add_subplot(rows,cols,j+1)\n",
    "                        sns.countplot(x = i, hue = y, data = df)\n",
    "                        plt.legend(bbox_to_anchor=(1, 1), loc=2, labels=['Not Survived', 'Survived'], borderaxespad=0.)\n",
    "\n",
    "                if i in df.select_dtypes(['float', 'int']):\n",
    "                    if (i not in temp):\n",
    "                        ax=fig.add_subplot(rows,cols,j+1)\n",
    "                        sns.boxplot(x = y, y = i, data = df)\n",
    "    fig.tight_layout() \n",
    "    plt.show()"
   ]
  },
  {
   "cell_type": "code",
   "execution_count": 225,
   "metadata": {},
   "outputs": [
    {
     "data": {
      "image/png": "[encoded data removed]",
      "text/plain": [
       "<Figure size 1800x1440 with 10 Axes>"
      ]
     },
     "metadata": {
      "needs_background": "light"
     },
     "output_type": "display_data"
    }
   ],
   "source": [
    "bivariate(combined)"
   ]
  },
  {
   "cell_type": "markdown",
   "metadata": {},
   "source": [
    "### EDA: Feature Engineering"
   ]
  },
  {
   "cell_type": "code",
   "execution_count": 106,
   "metadata": {},
   "outputs": [],
   "source": [
    "# To create a new column\n",
    "\n",
    "def add_to_dataframe(x, val, df = combined):\n",
    "    df[x] = val\n",
    "    return df"
   ]
  },
  {
   "cell_type": "code",
   "execution_count": 107,
   "metadata": {},
   "outputs": [
    {
     "data": {
      "text/plain": [
       "array(['Mr', 'Mrs', 'Miss', 'Master', 'Don', 'Rev', 'Dr', 'Mme', 'Ms',\n",
       "       'Major', 'Lady', 'Sir', 'Mlle', 'Col', 'Capt', 'the Countess',\n",
       "       'Jonkheer', 'Dona'], dtype=object)"
      ]
     },
     "execution_count": 107,
     "metadata": {},
     "output_type": "execute_result"
    }
   ],
   "source": [
    "temp = combined.Name.transform(lambda x:x.split('. ')[0]).transform(lambda x:x.split(', ')[1])\n",
    "\n",
    "combined = add_to_dataframe(\"Titles_New\", temp)\n",
    "\n",
    "temp.unique()"
   ]
  },
  {
   "cell_type": "code",
   "execution_count": 108,
   "metadata": {},
   "outputs": [
    {
     "data": {
      "text/plain": [
       "Mr              757\n",
       "Miss            260\n",
       "Mrs             197\n",
       "Master           61\n",
       "Rev               8\n",
       "Dr                8\n",
       "Col               4\n",
       "Mlle              2\n",
       "Major             2\n",
       "Ms                2\n",
       "Lady              1\n",
       "Sir               1\n",
       "Mme               1\n",
       "Don               1\n",
       "Capt              1\n",
       "the Countess      1\n",
       "Jonkheer          1\n",
       "Dona              1\n",
       "Name: Titles_New, dtype: int64"
      ]
     },
     "execution_count": 108,
     "metadata": {},
     "output_type": "execute_result"
    }
   ],
   "source": [
    "combined.Titles_New.value_counts()"
   ]
  },
  {
   "cell_type": "code",
   "execution_count": 109,
   "metadata": {},
   "outputs": [],
   "source": [
    "combined.Titles_New.replace(to_replace= 'Ms', value='Miss', inplace=True)"
   ]
  },
  {
   "cell_type": "code",
   "execution_count": 110,
   "metadata": {},
   "outputs": [],
   "source": [
    "combined.Titles_New.replace(to_replace= ['Don', 'Rev', 'Mme', 'Mlle', 'Dona', 'Capt', 'Sir', 'the Countess', 'Jonkheer', 'Major', 'Dr', 'Col', 'Lady'], value='Others', inplace=True)"
   ]
  },
  {
   "cell_type": "code",
   "execution_count": 111,
   "metadata": {},
   "outputs": [
    {
     "data": {
      "text/plain": [
       "0    2.0\n",
       "1    2.0\n",
       "2    1.0\n",
       "3    2.0\n",
       "4    1.0\n",
       "Name: Family, dtype: float64"
      ]
     },
     "execution_count": 111,
     "metadata": {},
     "output_type": "execute_result"
    }
   ],
   "source": [
    "# Creating Family Column\n",
    "to_be_num = ['SibSp', 'Parch']\n",
    "combined[to_be_num] = combined[to_be_num].astype(float) \n",
    "combined['Family'] = combined.SibSp + combined.Parch + 1\n",
    "combined[to_be_num] = combined[to_be_num].astype('category') \n",
    "combined.Family.head()"
   ]
  },
  {
   "cell_type": "code",
   "execution_count": 112,
   "metadata": {},
   "outputs": [
    {
     "data": {
      "text/plain": [
       "1.0     790\n",
       "2.0     235\n",
       "3.0     159\n",
       "4.0      43\n",
       "6.0      25\n",
       "5.0      22\n",
       "7.0      16\n",
       "11.0     11\n",
       "8.0       8\n",
       "Name: Family, dtype: int64"
      ]
     },
     "execution_count": 112,
     "metadata": {},
     "output_type": "execute_result"
    }
   ],
   "source": [
    "combined.Family.value_counts()"
   ]
  },
  {
   "cell_type": "code",
   "execution_count": 113,
   "metadata": {},
   "outputs": [],
   "source": [
    "# Creating Family Category.\n",
    "\n",
    "def total_people(x):\n",
    "    if x == 1:\n",
    "        return \"Single\"\n",
    "    elif x >= 2 and x < 4:\n",
    "        return \"Small\"\n",
    "    else:\n",
    "        return \"Large\"\n",
    "\n",
    "combined[\"Family_Cat\"] = combined.Family.apply(total_people)"
   ]
  },
  {
   "cell_type": "code",
   "execution_count": 114,
   "metadata": {},
   "outputs": [],
   "source": [
    "combined.Family = combined.Family.astype('category')"
   ]
  },
  {
   "cell_type": "code",
   "execution_count": 115,
   "metadata": {},
   "outputs": [
    {
     "name": "stdout",
     "output_type": "stream",
     "text": [
      "<class 'pandas.core.frame.DataFrame'>\n",
      "RangeIndex: 1309 entries, 0 to 1308\n",
      "Data columns (total 15 columns):\n",
      " #   Column       Non-Null Count  Dtype   \n",
      "---  ------       --------------  -----   \n",
      " 0   PassengerId  1309 non-null   int64   \n",
      " 1   Survived     891 non-null    category\n",
      " 2   Pclass       1309 non-null   category\n",
      " 3   Name         1309 non-null   category\n",
      " 4   Sex          1309 non-null   category\n",
      " 5   Age          1046 non-null   float64 \n",
      " 6   SibSp        1309 non-null   category\n",
      " 7   Parch        1309 non-null   category\n",
      " 8   Ticket       1309 non-null   category\n",
      " 9   Fare         1308 non-null   float64 \n",
      " 10  Cabin        295 non-null    category\n",
      " 11  Embarked     1307 non-null   category\n",
      " 12  Titles_New   1309 non-null   object  \n",
      " 13  Family       1309 non-null   category\n",
      " 14  Family_Cat   1309 non-null   object  \n",
      "dtypes: category(10), float64(2), int64(1), object(2)\n",
      "memory usage: 157.0+ KB\n"
     ]
    }
   ],
   "source": [
    "combined.info()"
   ]
  },
  {
   "cell_type": "code",
   "execution_count": 227,
   "metadata": {},
   "outputs": [
    {
     "data": {
      "text/plain": [
       "Single    790\n",
       "Small     394\n",
       "Large     125\n",
       "Name: Family_Cat, dtype: int64"
      ]
     },
     "execution_count": 227,
     "metadata": {},
     "output_type": "execute_result"
    }
   ],
   "source": [
    "combined.Family_Cat.value_counts()"
   ]
  },
  {
   "cell_type": "code",
   "execution_count": 118,
   "metadata": {},
   "outputs": [
    {
     "data": {
      "image/png": "[encoded data removed]",
      "text/plain": [
       "<Figure size 1440x1440 with 11 Axes>"
      ]
     },
     "metadata": {
      "needs_background": "light"
     },
     "output_type": "display_data"
    }
   ],
   "source": [
    "univariate(rows = 4)"
   ]
  },
  {
   "cell_type": "code",
   "execution_count": 226,
   "metadata": {},
   "outputs": [
    {
     "data": {
      "image/png": "[encoded data removed]",
      "text/plain": [
       "<Figure size 1800x1440 with 10 Axes>"
      ]
     },
     "metadata": {
      "needs_background": "light"
     },
     "output_type": "display_data"
    }
   ],
   "source": [
    "bivariate()"
   ]
  },
  {
   "cell_type": "markdown",
   "metadata": {},
   "source": [
    "### Missing Values"
   ]
  },
  {
   "cell_type": "code",
   "execution_count": 120,
   "metadata": {},
   "outputs": [
    {
     "data": {
      "text/plain": [
       "PassengerId       0\n",
       "Survived        418\n",
       "Pclass            0\n",
       "Name              0\n",
       "Sex               0\n",
       "Age             263\n",
       "SibSp             0\n",
       "Parch             0\n",
       "Ticket            0\n",
       "Fare              1\n",
       "Cabin          1014\n",
       "Embarked          2\n",
       "Titles_New        0\n",
       "Family            0\n",
       "Family_Cat        0\n",
       "dtype: int64"
      ]
     },
     "execution_count": 120,
     "metadata": {},
     "output_type": "execute_result"
    }
   ],
   "source": [
    "combined.isnull().sum()"
   ]
  },
  {
   "cell_type": "code",
   "execution_count": 121,
   "metadata": {},
   "outputs": [
    {
     "data": {
      "text/plain": [
       "S    914\n",
       "C    270\n",
       "Q    123\n",
       "Name: Embarked, dtype: int64"
      ]
     },
     "execution_count": 121,
     "metadata": {},
     "output_type": "execute_result"
    }
   ],
   "source": [
    "combined.Embarked.value_counts()"
   ]
  },
  {
   "cell_type": "markdown",
   "metadata": {},
   "source": [
    "Maximum People have boarded the ship from 'Southampton', hence filling the null values as 'S'.\n",
    "Just two null values would not create a big difference even if its wrong.\n",
    "\n",
    "We could check it against Fare or TickteID or PassengerID and see if there is a relation or not. Will try later."
   ]
  },
  {
   "cell_type": "code",
   "execution_count": 122,
   "metadata": {},
   "outputs": [],
   "source": [
    "combined.Embarked.fillna('S', inplace=True)"
   ]
  },
  {
   "cell_type": "markdown",
   "metadata": {},
   "source": [
    "For Missing value of Age:\n",
    "\n",
    "1. Family_Cat has a big impact.\n",
    "\n",
    "2. Pclass has an impact.\n",
    "\n",
    "3. Gender has no impact.\n",
    "\n",
    "4. Title has an impact."
   ]
  },
  {
   "cell_type": "code",
   "execution_count": 123,
   "metadata": {},
   "outputs": [],
   "source": [
    "def fill_na_Age(df):\n",
    "    temp_desc = pd.DataFrame(combined.groupby(['Pclass', 'Family_Cat', 'Titles_New'])['Age'].describe())\n",
    "    for i in df.Pclass.unique():\n",
    "        # print(i)\n",
    "        for j in df.Family_Cat.unique():\n",
    "            # print(i,j)\n",
    "            for k in df.Titles_New.unique():\n",
    "                    # print(temp_desc.loc[i, j, k].loc['50%'])\n",
    "                try:\n",
    "                    if (type(temp_desc.loc[i, j, k].loc['50%']) == np.float64) & (pd.isna(temp_desc.loc[i, j, k].loc['50%']) == False):\n",
    "                        # val = temp_desc.loc[i, j, k].loc['50%']\n",
    "                        # tempdf = df[(df.Pclass == i) & (df.Family_Cat == j) & (df.Titles_New == k)]\n",
    "                        # tempdf.Age.fillna(val, inplace=True)\n",
    "                        # # tempdf.head()\n",
    "                        # df[(df.Pclass == i) & (df.Family_Cat == j) & (df.Titles_New == k)] = tempdf\n",
    "                        df.loc[(df.Pclass == i) & (df.Family_Cat == j) & (df.Titles_New == k) & (df.Age.isna()), 'Age'] = temp_desc.loc[i, j, k].loc['50%']\n",
    "                except:\n",
    "                    pass\n",
    "    df.Age.fillna(combined[combined.Titles_New == 'Master']['Age'].mean(), inplace=True)"
   ]
  },
  {
   "cell_type": "code",
   "execution_count": 124,
   "metadata": {},
   "outputs": [],
   "source": [
    "fill_na_Age(combined)"
   ]
  },
  {
   "cell_type": "code",
   "execution_count": 130,
   "metadata": {},
   "outputs": [
    {
     "data": {
      "text/plain": [
       "Survived      418\n",
       "Pclass          0\n",
       "Sex             0\n",
       "Age             0\n",
       "SibSp           0\n",
       "Parch           0\n",
       "Fare            0\n",
       "Embarked        0\n",
       "Titles_New      0\n",
       "Family          0\n",
       "Family_Cat      0\n",
       "dtype: int64"
      ]
     },
     "execution_count": 130,
     "metadata": {},
     "output_type": "execute_result"
    }
   ],
   "source": [
    "combined.isnull().sum()"
   ]
  },
  {
   "cell_type": "markdown",
   "metadata": {},
   "source": [
    "In fare, just 1 Null value would not impact much. Filling it with the total mean."
   ]
  },
  {
   "cell_type": "code",
   "execution_count": 129,
   "metadata": {},
   "outputs": [],
   "source": [
    "combined.Fare.fillna(combined.Fare.mean(), inplace=True)"
   ]
  },
  {
   "cell_type": "code",
   "execution_count": 127,
   "metadata": {},
   "outputs": [],
   "source": [
    "combined.drop(['PassengerId', 'Name', 'Ticket', 'Cabin'], inplace=True, axis = 1)"
   ]
  },
  {
   "cell_type": "markdown",
   "metadata": {},
   "source": [
    "### Model Building"
   ]
  },
  {
   "cell_type": "markdown",
   "metadata": {},
   "source": [
    "#### 1. Logistic Regression"
   ]
  },
  {
   "cell_type": "code",
   "execution_count": 140,
   "metadata": {},
   "outputs": [],
   "source": [
    "col = combined.loc[:, combined.columns != target_var].columns"
   ]
  },
  {
   "cell_type": "code",
   "execution_count": 157,
   "metadata": {},
   "outputs": [],
   "source": [
    "def logit_sum(df):\n",
    "    dfc = ac(df)\n",
    "    col = dfc.loc[:, dfc.columns != target_var].columns\n",
    "    model = sm.Logit(df[target_var], dfc[col])\n",
    "    res = model.fit()\n",
    "    print(res.summary())"
   ]
  },
  {
   "cell_type": "code",
   "execution_count": 151,
   "metadata": {},
   "outputs": [],
   "source": [
    "def label_enc(df = combined):\n",
    "    df = df.dropna()\n",
    "    # print(df.head())\n",
    "    return df.apply(LabelEncoder().fit_transform)"
   ]
  },
  {
   "cell_type": "code",
   "execution_count": 158,
   "metadata": {},
   "outputs": [
    {
     "data": {
      "text/html": [
       "<div>\n",
       "<style scoped>\n",
       "    .dataframe tbody tr th:only-of-type {\n",
       "        vertical-align: middle;\n",
       "    }\n",
       "\n",
       "    .dataframe tbody tr th {\n",
       "        vertical-align: top;\n",
       "    }\n",
       "\n",
       "    .dataframe thead th {\n",
       "        text-align: right;\n",
       "    }\n",
       "</style>\n",
       "<table border=\"1\" class=\"dataframe\">\n",
       "  <thead>\n",
       "    <tr style=\"text-align: right;\">\n",
       "      <th></th>\n",
       "      <th>Survived</th>\n",
       "      <th>Pclass</th>\n",
       "      <th>Sex</th>\n",
       "      <th>Age</th>\n",
       "      <th>SibSp</th>\n",
       "      <th>Parch</th>\n",
       "      <th>Fare</th>\n",
       "      <th>Embarked</th>\n",
       "      <th>Titles_New</th>\n",
       "      <th>Family</th>\n",
       "      <th>Family_Cat</th>\n",
       "    </tr>\n",
       "  </thead>\n",
       "  <tbody>\n",
       "    <tr>\n",
       "      <th>0</th>\n",
       "      <td>0</td>\n",
       "      <td>2</td>\n",
       "      <td>1</td>\n",
       "      <td>29</td>\n",
       "      <td>1</td>\n",
       "      <td>0</td>\n",
       "      <td>18</td>\n",
       "      <td>2</td>\n",
       "      <td>2</td>\n",
       "      <td>1</td>\n",
       "      <td>2</td>\n",
       "    </tr>\n",
       "    <tr>\n",
       "      <th>1</th>\n",
       "      <td>1</td>\n",
       "      <td>0</td>\n",
       "      <td>0</td>\n",
       "      <td>53</td>\n",
       "      <td>1</td>\n",
       "      <td>0</td>\n",
       "      <td>207</td>\n",
       "      <td>0</td>\n",
       "      <td>3</td>\n",
       "      <td>1</td>\n",
       "      <td>2</td>\n",
       "    </tr>\n",
       "    <tr>\n",
       "      <th>2</th>\n",
       "      <td>1</td>\n",
       "      <td>2</td>\n",
       "      <td>0</td>\n",
       "      <td>35</td>\n",
       "      <td>0</td>\n",
       "      <td>0</td>\n",
       "      <td>41</td>\n",
       "      <td>2</td>\n",
       "      <td>1</td>\n",
       "      <td>0</td>\n",
       "      <td>1</td>\n",
       "    </tr>\n",
       "    <tr>\n",
       "      <th>3</th>\n",
       "      <td>1</td>\n",
       "      <td>0</td>\n",
       "      <td>0</td>\n",
       "      <td>49</td>\n",
       "      <td>1</td>\n",
       "      <td>0</td>\n",
       "      <td>189</td>\n",
       "      <td>2</td>\n",
       "      <td>3</td>\n",
       "      <td>1</td>\n",
       "      <td>2</td>\n",
       "    </tr>\n",
       "    <tr>\n",
       "      <th>4</th>\n",
       "      <td>0</td>\n",
       "      <td>2</td>\n",
       "      <td>1</td>\n",
       "      <td>49</td>\n",
       "      <td>0</td>\n",
       "      <td>0</td>\n",
       "      <td>43</td>\n",
       "      <td>2</td>\n",
       "      <td>2</td>\n",
       "      <td>0</td>\n",
       "      <td>1</td>\n",
       "    </tr>\n",
       "  </tbody>\n",
       "</table>\n",
       "</div>"
      ],
      "text/plain": [
       "   Survived  Pclass  Sex  Age  SibSp  Parch  Fare  Embarked  Titles_New  \\\n",
       "0         0       2    1   29      1      0    18         2           2   \n",
       "1         1       0    0   53      1      0   207         0           3   \n",
       "2         1       2    0   35      0      0    41         2           1   \n",
       "3         1       0    0   49      1      0   189         2           3   \n",
       "4         0       2    1   49      0      0    43         2           2   \n",
       "\n",
       "   Family  Family_Cat  \n",
       "0       1           2  \n",
       "1       1           2  \n",
       "2       0           1  \n",
       "3       1           2  \n",
       "4       0           1  "
      ]
     },
     "execution_count": 158,
     "metadata": {},
     "output_type": "execute_result"
    }
   ],
   "source": [
    "combined_lb = label_enc()\n",
    "combined_lb.head()"
   ]
  },
  {
   "cell_type": "code",
   "execution_count": 159,
   "metadata": {},
   "outputs": [
    {
     "name": "stdout",
     "output_type": "stream",
     "text": [
      "Optimization terminated successfully.\n",
      "         Current function value: 0.433021\n",
      "         Iterations 7\n",
      "                           Logit Regression Results                           \n",
      "==============================================================================\n",
      "Dep. Variable:               Survived   No. Observations:                  891\n",
      "Model:                          Logit   Df Residuals:                      881\n",
      "Method:                           MLE   Df Model:                            9\n",
      "Date:                Mon, 18 Jul 2022   Pseudo R-squ.:                  0.3497\n",
      "Time:                        02:00:23   Log-Likelihood:                -385.82\n",
      "converged:                       True   LL-Null:                       -593.33\n",
      "Covariance Type:            nonrobust   LLR p-value:                 8.563e-84\n",
      "==============================================================================\n",
      "                 coef    std err          z      P>|z|      [0.025      0.975]\n",
      "------------------------------------------------------------------------------\n",
      "const          3.3563      0.645      5.205      0.000       2.092       4.620\n",
      "Pclass        -0.9460      0.245     -3.862      0.000      -1.426      -0.466\n",
      "Sex           -2.6633      0.147    -18.080      0.000      -2.952      -2.375\n",
      "Age           -0.0272      0.007     -4.045      0.000      -0.040      -0.014\n",
      "SibSp         -0.2728   1.46e+14  -1.87e-15      1.000   -2.86e+14    2.86e+14\n",
      "Parch          0.0903   1.46e+14   6.18e-16      1.000   -2.86e+14    2.86e+14\n",
      "Fare           0.0044      0.005      0.845      0.398      -0.006       0.015\n",
      "Embarked      -0.1510      0.117     -1.293      0.196      -0.380       0.078\n",
      "Titles_New    -0.1955      0.127     -1.533      0.125      -0.445       0.054\n",
      "Family        -0.1825   1.46e+14  -1.25e-15      1.000   -2.86e+14    2.86e+14\n",
      "Family_Cat     0.3748          0        inf      0.000       0.375       0.375\n",
      "==============================================================================\n"
     ]
    }
   ],
   "source": [
    "logit_sum(combined_lb)"
   ]
  },
  {
   "cell_type": "code",
   "execution_count": 160,
   "metadata": {},
   "outputs": [],
   "source": [
    "# Removing cols with p-value more than 0.05\n",
    "\n",
    "def back_feat_elem(df, y = combined_lb[target_var]):\n",
    "    # df = label_enc(df)\n",
    "    dfc = ac(df)\n",
    "    colm = dfc.loc[:, dfc.columns != target_var].columns\n",
    "    # print(col)\n",
    "    while len(colm) > 0:\n",
    "        model = sm.Logit(y, dfc[colm])\n",
    "        result = model.fit(disp= 0)\n",
    "        largest_pvalue = round(result.pvalues, 3).nlargest(1)\n",
    "        if largest_pvalue[0] < (0.05):\n",
    "            return result\n",
    "            break\n",
    "        else:\n",
    "            colm= colm.drop(largest_pvalue.index)"
   ]
  },
  {
   "cell_type": "code",
   "execution_count": 161,
   "metadata": {},
   "outputs": [
    {
     "data": {
      "text/html": [
       "<table class=\"simpletable\">\n",
       "<caption>Logit Regression Results</caption>\n",
       "<tr>\n",
       "  <th>Dep. Variable:</th>       <td>Survived</td>     <th>  No. Observations:  </th>  <td>   891</td>  \n",
       "</tr>\n",
       "<tr>\n",
       "  <th>Model:</th>                 <td>Logit</td>      <th>  Df Residuals:      </th>  <td>   885</td>  \n",
       "</tr>\n",
       "<tr>\n",
       "  <th>Method:</th>                 <td>MLE</td>       <th>  Df Model:          </th>  <td>     5</td>  \n",
       "</tr>\n",
       "<tr>\n",
       "  <th>Date:</th>            <td>Mon, 18 Jul 2022</td> <th>  Pseudo R-squ.:     </th>  <td>0.3406</td>  \n",
       "</tr>\n",
       "<tr>\n",
       "  <th>Time:</th>                <td>02:00:44</td>     <th>  Log-Likelihood:    </th> <td> -391.24</td> \n",
       "</tr>\n",
       "<tr>\n",
       "  <th>converged:</th>             <td>True</td>       <th>  LL-Null:           </th> <td> -593.33</td> \n",
       "</tr>\n",
       "<tr>\n",
       "  <th>Covariance Type:</th>     <td>nonrobust</td>    <th>  LLR p-value:       </th> <td>3.723e-85</td>\n",
       "</tr>\n",
       "</table>\n",
       "<table class=\"simpletable\">\n",
       "<tr>\n",
       "       <td></td>         <th>coef</th>     <th>std err</th>      <th>z</th>      <th>P>|z|</th>  <th>[0.025</th>    <th>0.975]</th>  \n",
       "</tr>\n",
       "<tr>\n",
       "  <th>const</th>      <td>    3.6716</td> <td>    0.473</td> <td>    7.765</td> <td> 0.000</td> <td>    2.745</td> <td>    4.598</td>\n",
       "</tr>\n",
       "<tr>\n",
       "  <th>Pclass</th>     <td>   -1.2365</td> <td>    0.130</td> <td>   -9.475</td> <td> 0.000</td> <td>   -1.492</td> <td>   -0.981</td>\n",
       "</tr>\n",
       "<tr>\n",
       "  <th>Sex</th>        <td>   -2.7189</td> <td>    0.199</td> <td>  -13.661</td> <td> 0.000</td> <td>   -3.109</td> <td>   -2.329</td>\n",
       "</tr>\n",
       "<tr>\n",
       "  <th>Age</th>        <td>   -0.0318</td> <td>    0.006</td> <td>   -5.255</td> <td> 0.000</td> <td>   -0.044</td> <td>   -0.020</td>\n",
       "</tr>\n",
       "<tr>\n",
       "  <th>Family</th>     <td>   -0.1984</td> <td>    0.069</td> <td>   -2.864</td> <td> 0.004</td> <td>   -0.334</td> <td>   -0.063</td>\n",
       "</tr>\n",
       "<tr>\n",
       "  <th>Family_Cat</th> <td>    0.4175</td> <td>    0.151</td> <td>    2.757</td> <td> 0.006</td> <td>    0.121</td> <td>    0.714</td>\n",
       "</tr>\n",
       "</table>"
      ],
      "text/plain": [
       "<class 'statsmodels.iolib.summary.Summary'>\n",
       "\"\"\"\n",
       "                           Logit Regression Results                           \n",
       "==============================================================================\n",
       "Dep. Variable:               Survived   No. Observations:                  891\n",
       "Model:                          Logit   Df Residuals:                      885\n",
       "Method:                           MLE   Df Model:                            5\n",
       "Date:                Mon, 18 Jul 2022   Pseudo R-squ.:                  0.3406\n",
       "Time:                        02:00:44   Log-Likelihood:                -391.24\n",
       "converged:                       True   LL-Null:                       -593.33\n",
       "Covariance Type:            nonrobust   LLR p-value:                 3.723e-85\n",
       "==============================================================================\n",
       "                 coef    std err          z      P>|z|      [0.025      0.975]\n",
       "------------------------------------------------------------------------------\n",
       "const          3.6716      0.473      7.765      0.000       2.745       4.598\n",
       "Pclass        -1.2365      0.130     -9.475      0.000      -1.492      -0.981\n",
       "Sex           -2.7189      0.199    -13.661      0.000      -3.109      -2.329\n",
       "Age           -0.0318      0.006     -5.255      0.000      -0.044      -0.020\n",
       "Family        -0.1984      0.069     -2.864      0.004      -0.334      -0.063\n",
       "Family_Cat     0.4175      0.151      2.757      0.006       0.121       0.714\n",
       "==============================================================================\n",
       "\"\"\""
      ]
     },
     "execution_count": 161,
     "metadata": {},
     "output_type": "execute_result"
    }
   ],
   "source": [
    "back_res = back_feat_elem(combined_lb)\n",
    "back_res.summary()"
   ]
  },
  {
   "cell_type": "code",
   "execution_count": 162,
   "metadata": {},
   "outputs": [
    {
     "data": {
      "text/plain": [
       "['Pclass', 'Sex', 'Age', 'Family', 'Family_Cat']"
      ]
     },
     "execution_count": 162,
     "metadata": {},
     "output_type": "execute_result"
    }
   ],
   "source": [
    "ind = list(back_res.params.index)\n",
    "ind.remove('const')\n",
    "ind"
   ]
  },
  {
   "cell_type": "code",
   "execution_count": 163,
   "metadata": {},
   "outputs": [
    {
     "data": {
      "text/html": [
       "<div>\n",
       "<style scoped>\n",
       "    .dataframe tbody tr th:only-of-type {\n",
       "        vertical-align: middle;\n",
       "    }\n",
       "\n",
       "    .dataframe tbody tr th {\n",
       "        vertical-align: top;\n",
       "    }\n",
       "\n",
       "    .dataframe thead th {\n",
       "        text-align: right;\n",
       "    }\n",
       "</style>\n",
       "<table border=\"1\" class=\"dataframe\">\n",
       "  <thead>\n",
       "    <tr style=\"text-align: right;\">\n",
       "      <th></th>\n",
       "      <th>Pclass</th>\n",
       "      <th>Sex</th>\n",
       "      <th>Age</th>\n",
       "      <th>Family</th>\n",
       "      <th>Family_Cat</th>\n",
       "      <th>Survived</th>\n",
       "    </tr>\n",
       "  </thead>\n",
       "  <tbody>\n",
       "    <tr>\n",
       "      <th>0</th>\n",
       "      <td>3</td>\n",
       "      <td>male</td>\n",
       "      <td>22.0</td>\n",
       "      <td>2.0</td>\n",
       "      <td>Small</td>\n",
       "      <td>0</td>\n",
       "    </tr>\n",
       "    <tr>\n",
       "      <th>1</th>\n",
       "      <td>1</td>\n",
       "      <td>female</td>\n",
       "      <td>38.0</td>\n",
       "      <td>2.0</td>\n",
       "      <td>Small</td>\n",
       "      <td>1</td>\n",
       "    </tr>\n",
       "    <tr>\n",
       "      <th>2</th>\n",
       "      <td>3</td>\n",
       "      <td>female</td>\n",
       "      <td>26.0</td>\n",
       "      <td>1.0</td>\n",
       "      <td>Single</td>\n",
       "      <td>1</td>\n",
       "    </tr>\n",
       "    <tr>\n",
       "      <th>3</th>\n",
       "      <td>1</td>\n",
       "      <td>female</td>\n",
       "      <td>35.0</td>\n",
       "      <td>2.0</td>\n",
       "      <td>Small</td>\n",
       "      <td>1</td>\n",
       "    </tr>\n",
       "    <tr>\n",
       "      <th>4</th>\n",
       "      <td>3</td>\n",
       "      <td>male</td>\n",
       "      <td>35.0</td>\n",
       "      <td>1.0</td>\n",
       "      <td>Single</td>\n",
       "      <td>0</td>\n",
       "    </tr>\n",
       "  </tbody>\n",
       "</table>\n",
       "</div>"
      ],
      "text/plain": [
       "  Pclass     Sex   Age Family Family_Cat Survived\n",
       "0      3    male  22.0    2.0      Small        0\n",
       "1      1  female  38.0    2.0      Small        1\n",
       "2      3  female  26.0    1.0     Single        1\n",
       "3      1  female  35.0    2.0      Small        1\n",
       "4      3    male  35.0    1.0     Single        0"
      ]
     },
     "execution_count": 163,
     "metadata": {},
     "output_type": "execute_result"
    }
   ],
   "source": [
    "# Storing the above columns in another DataFrame\n",
    "\n",
    "new_x = combined[ind]\n",
    "new_y = combined.Survived\n",
    "new_df = pd.concat([new_x, new_y], axis=1)\n",
    "new_df.head()"
   ]
  },
  {
   "cell_type": "code",
   "execution_count": 164,
   "metadata": {},
   "outputs": [
    {
     "data": {
      "text/plain": [
       "Pclass          0\n",
       "Sex             0\n",
       "Age             0\n",
       "Family          0\n",
       "Family_Cat      0\n",
       "Survived      418\n",
       "dtype: int64"
      ]
     },
     "execution_count": 164,
     "metadata": {},
     "output_type": "execute_result"
    }
   ],
   "source": [
    "new_df.isnull().sum()"
   ]
  },
  {
   "cell_type": "markdown",
   "metadata": {},
   "source": [
    "Now We have best columns, lets apply modelling."
   ]
  },
  {
   "cell_type": "code",
   "execution_count": 165,
   "metadata": {},
   "outputs": [],
   "source": [
    "params_lg = {\n",
    "    'penalty': ['l1', 'l2','elasticnet'],\n",
    "    'tol': [0.1, 0.01],\n",
    "    'C': [0.1, 0.01],\n",
    "    'solver': ['newton-cg', 'lbfgs', 'liblinear', 'sag', 'saga'],\n",
    "    'max_iter': [10, 100],\n",
    "    'multi_class': ['auto', 'ovr','multinomial'],\n",
    "    'n_jobs': [3,4],\n",
    "}"
   ]
  },
  {
   "cell_type": "code",
   "execution_count": 214,
   "metadata": {},
   "outputs": [
    {
     "data": {
      "application/javascript": "\n        if (window._pyforest_update_imports_cell) { window._pyforest_update_imports_cell('import re'); }\n    ",
      "text/plain": [
       "<IPython.core.display.Javascript object>"
      ]
     },
     "metadata": {},
     "output_type": "display_data"
    }
   ],
   "source": [
    "# grid_search(LogisticRegression(), params_lg, new_df, 'd', 'yes')\n",
    "\n",
    "# Kaggle Score = 0.75837"
   ]
  },
  {
   "cell_type": "markdown",
   "metadata": {},
   "source": [
    "#### 2. Decision Tree"
   ]
  },
  {
   "cell_type": "code",
   "execution_count": 215,
   "metadata": {},
   "outputs": [],
   "source": [
    "params_dt = {\n",
    "    'criterion': ['gini','entropy', 'log_loss'],\n",
    "    'splitter': ['best', 'random'],\n",
    "    'max_depth': [3, 6, 9],\n",
    "    'min_samples_leaf': [5, 8, 11],\n",
    "    'max_features': ['sqrt', 'log2'],\n",
    "}"
   ]
  },
  {
   "cell_type": "code",
   "execution_count": 216,
   "metadata": {},
   "outputs": [
    {
     "data": {
      "application/javascript": "\n        if (window._pyforest_update_imports_cell) { window._pyforest_update_imports_cell('import re'); }\n    ",
      "text/plain": [
       "<IPython.core.display.Javascript object>"
      ]
     },
     "metadata": {},
     "output_type": "display_data"
    }
   ],
   "source": [
    "# grid_search(DecisionTreeClassifier(), params_dt, new_df, 'd', 'yes')\n",
    "\n",
    "# Kaggle Score = 0.71770"
   ]
  },
  {
   "cell_type": "markdown",
   "metadata": {},
   "source": [
    "#### 3. Random Forest Classifier"
   ]
  },
  {
   "cell_type": "code",
   "execution_count": 217,
   "metadata": {},
   "outputs": [],
   "source": [
    "rf_params = {\n",
    "    'n_estimators': [10, 50, 100, 150, 200],\n",
    "    'criterion': ['gini', 'entropy', 'log_loss'],\n",
    "    'max_depth': [10, 15, 20, 25, 40],\n",
    "    'max_features': ['sqrt', 'log2'],\n",
    "    'bootstrap': [True, False],\n",
    "    'oob_score': [True],\n",
    "    'n_jobs': [-1],\n",
    "}"
   ]
  },
  {
   "cell_type": "code",
   "execution_count": 218,
   "metadata": {},
   "outputs": [
    {
     "data": {
      "application/javascript": "\n        if (window._pyforest_update_imports_cell) { window._pyforest_update_imports_cell('import re'); }\n    ",
      "text/plain": [
       "<IPython.core.display.Javascript object>"
      ]
     },
     "metadata": {},
     "output_type": "display_data"
    }
   ],
   "source": [
    "# grid_search(RandomForestClassifier(), rf_params, new_df, 'd', 'yes')\n",
    "\n",
    "# Kaggle Score = 0.72488"
   ]
  },
  {
   "cell_type": "markdown",
   "metadata": {},
   "source": [
    "### **Outlier**\n",
    "\n",
    "1. Boxplot: Visualisation\n",
    "2. 1.5 * IQR [IQR is (Q3 - Q1)] Identifying Outliers\n",
    "\n",
    "In Case of Normal Distribution, anything beyond 3 Sigma is considered to be an outlier. However this is rare as most values are already covered."
   ]
  },
  {
   "cell_type": "markdown",
   "metadata": {},
   "source": [
    "When in any dataset we want to find out the association b/w:\n",
    "\n",
    "1. Categorical and Numerical -> ANOVA - Analysis of Variance(ftest).\n",
    "\n",
    "    1.1. Most Imp feature in ANOVA is it can be easily performed on multi categorical data set.\n",
    "\n",
    "2. Categorical and Categorical -> Chi Square.\n",
    "\n",
    "3. Numerical and Numerical -> ttest."
   ]
  },
  {
   "cell_type": "code",
   "execution_count": 56,
   "metadata": {},
   "outputs": [],
   "source": [
    "import scipy.stats as stats\n",
    "from statsmodels.formula.api import ols"
   ]
  },
  {
   "cell_type": "markdown",
   "metadata": {},
   "source": [
    "Hypothesis is that PClass has some effect on Age.\n",
    "\n",
    "H0: PClass has **NO** effect on Age. (or Mean of Passengers of Pclass 1 = Mean of Passengers of Pclass 2 = Mean of Passengers of Pclass 3)\n",
    "\n",
    "H1: PClass has has some effect on Age."
   ]
  },
  {
   "cell_type": "code",
   "execution_count": 57,
   "metadata": {},
   "outputs": [
    {
     "data": {
      "text/plain": [
       "F_onewayResult(statistic=108.32631005902482, pvalue=1.796708368328782e-43)"
      ]
     },
     "execution_count": 57,
     "metadata": {},
     "output_type": "execute_result"
    }
   ],
   "source": [
    "# stats.f_oneway(dg1, dg2, ... , dgN)\n",
    "\n",
    "stats.f_oneway(\n",
    "    combined.loc[combined[\"Pclass\"] == '1']['Age'].dropna(),\n",
    "    combined.loc[combined['Pclass'] == '2']['Age'].dropna(), \n",
    "    combined.loc[combined['Pclass'] == '3']['Age'].dropna())"
   ]
  },
  {
   "cell_type": "markdown",
   "metadata": {},
   "source": [
    "**ANOVA Interpretation**\n",
    "\n",
    "P-Value is less than 0.05, we fail to accept the **H0**. PClass holds a significant impact on the Age.\n",
    "\n",
    "We can use PClass while imputting Missing Values"
   ]
  },
  {
   "cell_type": "code",
   "execution_count": 58,
   "metadata": {},
   "outputs": [
    {
     "data": {
      "text/plain": [
       "Index(['Survived', 'Pclass', 'Sex', 'Age', 'SibSp', 'Parch', 'Fare',\n",
       "       'Embarked', 'Titles_New', 'Family', 'Family_Cat', 'Cabin_Avail'],\n",
       "      dtype='object')"
      ]
     },
     "execution_count": 58,
     "metadata": {},
     "output_type": "execute_result"
    }
   ],
   "source": [
    "combined.columns"
   ]
  },
  {
   "cell_type": "code",
   "execution_count": 59,
   "metadata": {},
   "outputs": [
    {
     "data": {
      "text/plain": [
       "Single    790\n",
       "Small     394\n",
       "Large     125\n",
       "Name: Family_Cat, dtype: int64"
      ]
     },
     "execution_count": 59,
     "metadata": {},
     "output_type": "execute_result"
    }
   ],
   "source": [
    "combined.Family_Cat.value_counts()"
   ]
  },
  {
   "cell_type": "code",
   "execution_count": 60,
   "metadata": {},
   "outputs": [
    {
     "data": {
      "text/html": [
       "<table class=\"simpletable\">\n",
       "<caption>OLS Regression Results</caption>\n",
       "<tr>\n",
       "  <th>Dep. Variable:</th>           <td>Age</td>       <th>  R-squared:         </th> <td>   0.007</td>\n",
       "</tr>\n",
       "<tr>\n",
       "  <th>Model:</th>                   <td>OLS</td>       <th>  Adj. R-squared:    </th> <td>   0.006</td>\n",
       "</tr>\n",
       "<tr>\n",
       "  <th>Method:</th>             <td>Least Squares</td>  <th>  F-statistic:       </th> <td>   3.917</td>\n",
       "</tr>\n",
       "<tr>\n",
       "  <th>Date:</th>             <td>Tue, 21 Jun 2022</td> <th>  Prob (F-statistic):</th>  <td>0.0202</td> \n",
       "</tr>\n",
       "<tr>\n",
       "  <th>Time:</th>                 <td>16:13:30</td>     <th>  Log-Likelihood:    </th> <td> -4270.7</td>\n",
       "</tr>\n",
       "<tr>\n",
       "  <th>No. Observations:</th>      <td>  1046</td>      <th>  AIC:               </th> <td>   8547.</td>\n",
       "</tr>\n",
       "<tr>\n",
       "  <th>Df Residuals:</th>          <td>  1043</td>      <th>  BIC:               </th> <td>   8562.</td>\n",
       "</tr>\n",
       "<tr>\n",
       "  <th>Df Model:</th>              <td>     2</td>      <th>                     </th>     <td> </td>   \n",
       "</tr>\n",
       "<tr>\n",
       "  <th>Covariance Type:</th>      <td>nonrobust</td>    <th>                     </th>     <td> </td>   \n",
       "</tr>\n",
       "</table>\n",
       "<table class=\"simpletable\">\n",
       "<tr>\n",
       "        <td></td>           <th>coef</th>     <th>std err</th>      <th>t</th>      <th>P>|t|</th>  <th>[0.025</th>    <th>0.975]</th>  \n",
       "</tr>\n",
       "<tr>\n",
       "  <th>Intercept</th>     <td>   32.3322</td> <td>    0.987</td> <td>   32.752</td> <td> 0.000</td> <td>   30.395</td> <td>   34.269</td>\n",
       "</tr>\n",
       "<tr>\n",
       "  <th>Embarked[T.Q]</th> <td>   -3.7022</td> <td>    2.260</td> <td>   -1.638</td> <td> 0.102</td> <td>   -8.136</td> <td>    0.732</td>\n",
       "</tr>\n",
       "<tr>\n",
       "  <th>Embarked[T.S]</th> <td>   -3.0340</td> <td>    1.113</td> <td>   -2.727</td> <td> 0.007</td> <td>   -5.217</td> <td>   -0.851</td>\n",
       "</tr>\n",
       "</table>\n",
       "<table class=\"simpletable\">\n",
       "<tr>\n",
       "  <th>Omnibus:</th>       <td>27.123</td> <th>  Durbin-Watson:     </th> <td>   1.958</td>\n",
       "</tr>\n",
       "<tr>\n",
       "  <th>Prob(Omnibus):</th> <td> 0.000</td> <th>  Jarque-Bera (JB):  </th> <td>  28.547</td>\n",
       "</tr>\n",
       "<tr>\n",
       "  <th>Skew:</th>          <td> 0.395</td> <th>  Prob(JB):          </th> <td>6.33e-07</td>\n",
       "</tr>\n",
       "<tr>\n",
       "  <th>Kurtosis:</th>      <td> 3.174</td> <th>  Cond. No.          </th> <td>    6.83</td>\n",
       "</tr>\n",
       "</table><br/><br/>Notes:<br/>[1] Standard Errors assume that the covariance matrix of the errors is correctly specified."
      ],
      "text/plain": [
       "<class 'statsmodels.iolib.summary.Summary'>\n",
       "\"\"\"\n",
       "                            OLS Regression Results                            \n",
       "==============================================================================\n",
       "Dep. Variable:                    Age   R-squared:                       0.007\n",
       "Model:                            OLS   Adj. R-squared:                  0.006\n",
       "Method:                 Least Squares   F-statistic:                     3.917\n",
       "Date:                Tue, 21 Jun 2022   Prob (F-statistic):             0.0202\n",
       "Time:                        16:13:30   Log-Likelihood:                -4270.7\n",
       "No. Observations:                1046   AIC:                             8547.\n",
       "Df Residuals:                    1043   BIC:                             8562.\n",
       "Df Model:                           2                                         \n",
       "Covariance Type:            nonrobust                                         \n",
       "=================================================================================\n",
       "                    coef    std err          t      P>|t|      [0.025      0.975]\n",
       "---------------------------------------------------------------------------------\n",
       "Intercept        32.3322      0.987     32.752      0.000      30.395      34.269\n",
       "Embarked[T.Q]    -3.7022      2.260     -1.638      0.102      -8.136       0.732\n",
       "Embarked[T.S]    -3.0340      1.113     -2.727      0.007      -5.217      -0.851\n",
       "==============================================================================\n",
       "Omnibus:                       27.123   Durbin-Watson:                   1.958\n",
       "Prob(Omnibus):                  0.000   Jarque-Bera (JB):               28.547\n",
       "Skew:                           0.395   Prob(JB):                     6.33e-07\n",
       "Kurtosis:                       3.174   Cond. No.                         6.83\n",
       "==============================================================================\n",
       "\n",
       "Notes:\n",
       "[1] Standard Errors assume that the covariance matrix of the errors is correctly specified.\n",
       "\"\"\""
      ]
     },
     "execution_count": 60,
     "metadata": {},
     "output_type": "execute_result"
    }
   ],
   "source": [
    "# In case of multiple feature check\n",
    "\n",
    "model = ols('Age ~ Embarked', combined ).fit()\n",
    "model.summary()"
   ]
  },
  {
   "cell_type": "code",
   "execution_count": 61,
   "metadata": {},
   "outputs": [
    {
     "data": {
      "text/plain": [
       "F_onewayResult(statistic=31.39714125133197, pvalue=5.74246670225981e-14)"
      ]
     },
     "execution_count": 61,
     "metadata": {},
     "output_type": "execute_result"
    }
   ],
   "source": [
    "stats.f_oneway(\n",
    "    combined.loc[combined[\"Family_Cat\"] == 'Small']['Age'].dropna(),\n",
    "    combined.loc[combined['Family_Cat'] == 'Single']['Age'].dropna(),\n",
    "    combined.loc[combined['Family_Cat'] == 'Large']['Age'].dropna())"
   ]
  }
 ],
 "metadata": {
  "kernelspec": {
   "display_name": "Python 3.10.5 64-bit",
   "language": "python",
   "name": "python3"
  },
  "language_info": {
   "codemirror_mode": {
    "name": "ipython",
    "version": 3
   },
   "file_extension": ".py",
   "mimetype": "text/x-python",
   "name": "python",
   "nbconvert_exporter": "python",
   "pygments_lexer": "ipython3",
   "version": "3.10.5"
  },
  "orig_nbformat": 4,
  "vscode": {
   "interpreter": {
    "hash": "b6213e0af081d56db034f795ff49d96980936e2ae540dda57fc6c3cbea6a5fc9"
   }
  }
 },
 "nbformat": 4,
 "nbformat_minor": 2
}
